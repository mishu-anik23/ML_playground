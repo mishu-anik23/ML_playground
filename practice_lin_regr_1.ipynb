{
  "nbformat": 4,
  "nbformat_minor": 0,
  "metadata": {
    "colab": {
      "name": "practice_lin_regr_1",
      "version": "0.3.2",
      "provenance": [],
      "include_colab_link": true
    },
    "kernelspec": {
      "name": "python3",
      "display_name": "Python 3"
    }
  },
  "cells": [
    {
      "cell_type": "markdown",
      "metadata": {
        "id": "view-in-github",
        "colab_type": "text"
      },
      "source": [
        "<a href=\"https://colab.research.google.com/github/mishu-anik23/ML_playground/blob/master/practice_lin_regr_1.ipynb\" target=\"_parent\"><img src=\"https://colab.research.google.com/assets/colab-badge.svg\" alt=\"Open In Colab\"/></a>"
      ]
    },
    {
      "cell_type": "code",
      "metadata": {
        "id": "brqSrPPjwnAW",
        "colab_type": "code",
        "colab": {}
      },
      "source": [
        "# importing the libraries\n",
        "\n",
        "import os\n",
        "\n",
        "import matplotlib.pyplot as plt\n",
        "import numpy as np\n",
        "import pandas as pd\n",
        "\n",
        "from six.moves import urllib\n",
        "\n",
        "import sklearn.linear_model"
      ],
      "execution_count": 0,
      "outputs": []
    },
    {
      "cell_type": "code",
      "metadata": {
        "id": "G7yyPvQWa0OA",
        "colab_type": "code",
        "colab": {}
      },
      "source": [
        "# prepare the download link of two datasets\n",
        "# This data set has been downloaded from Ageron ML course; \n",
        "# Home url \n",
        "source_url = \"https://raw.githubusercontent.com/ageron/handson-ml/master/\"\n",
        "\n",
        "# add file location and create full link:\n",
        "url_life_data = source_url + 'datasets/lifesat/oecd_bli_2015.csv'\n",
        "url_gdp_data = source_url + 'datasets/lifesat/gdp_per_capita.csv'"
      ],
      "execution_count": 0,
      "outputs": []
    },
    {
      "cell_type": "code",
      "metadata": {
        "id": "nDfypkn4fVdM",
        "colab_type": "code",
        "colab": {}
      },
      "source": [
        "# Define the path where the downloaded datasets will be set:\n",
        "datapath = os.path.join(os.getcwd(), 'datasets')"
      ],
      "execution_count": 0,
      "outputs": []
    },
    {
      "cell_type": "code",
      "metadata": {
        "id": "T-h8ma4uGkeH",
        "colab_type": "code",
        "colab": {}
      },
      "source": [
        "# Define a function to download data from list of urls and saves in a defined path\n",
        "\n",
        "def download_data(urls, datadir):\n",
        "  if not os.path.isdir(datadir):\n",
        "    os.makedirs(datadir)\n",
        "  for url in urls:\n",
        "    target_path = os.path.join(datadir, os.path.basename(url))\n",
        "    urllib.request.urlretrieve(url, target_path)"
      ],
      "execution_count": 0,
      "outputs": []
    },
    {
      "cell_type": "code",
      "metadata": {
        "id": "sUFZp1Rst3A_",
        "colab_type": "code",
        "colab": {}
      },
      "source": [
        "# Define a function to process the two datasets a/c to learning objective.\n",
        "\n",
        "\n",
        "def prepare_country_stats(life_data, gdp_data):\n",
        "    \n",
        "    # filtering the data a/c to INEQUALITY criteria 'TOT'\n",
        "    life_data = life_data[life_data[\"INEQUALITY\"]==\"TOT\"]\n",
        "\n",
        "    ## rearranging the data a/c to different inducator value for each country\n",
        "    life_data = life_data.pivot(index=\"Country\", columns=\"Indicator\", values=\"Value\")\n",
        "\n",
        "    ## renaming one column name and arranging a/c to Country of the i/p gdp dataset \n",
        "    gdp_data.rename(columns={\"2015\": \"GDP per capita\"}, inplace=True)\n",
        "    gdp_data.set_index(\"Country\", inplace=True)\n",
        "    \n",
        "    ## merging the two datasets and sorting by GDP value\n",
        "    full_country_stats = pd.merge(left=life_data, right=gdp_data,\n",
        "                                  left_index=True, right_index=True)\n",
        "    full_country_stats.sort_values(by=\"GDP per capita\", inplace=True)\n",
        "\n",
        "    ## return the final datasets after removing some indexes.\n",
        "    remove_indices = [0, 1, 6, 8, 33, 34, 35]\n",
        "    keep_indices = list(set(range(36)) - set(remove_indices))\n",
        "\n",
        "    return full_country_stats[[\"GDP per capita\", 'Life satisfaction']].iloc[keep_indices]"
      ],
      "execution_count": 0,
      "outputs": []
    },
    {
      "cell_type": "code",
      "metadata": {
        "id": "7zrEwX501k0f",
        "colab_type": "code",
        "colab": {}
      },
      "source": [
        "# Ploting function of Life Satisfaction Based on GDP for given Country name.\n",
        "\n",
        "def plot_prediction(model, country):\n",
        "  new_gdp = data_gdp_per_capita.loc[country][\"GDP per capita\"]\n",
        "  new_pred = model.predict([[new_gdp]])[0][0]\n",
        "  \n",
        "  X=np.linspace(0, 60000, 1000)\n",
        "  plt.plot(X, intercept + coeff*X, \"r\")\n",
        "  plt.axis([0, 60000, 4.5, 9.2])\n",
        "  plt.text(35000, 5.7, r\"$\\theta_0 = {:.3f}$\".format(intercept), fontsize=12, color=\"g\")\n",
        "  plt.text(35000, 5.4, r\"$\\theta_1 = {:.3e}$\".format(coeff), fontsize=12, color=\"g\")\n",
        "  plt.plot([new_gdp, new_gdp], [0, new_pred], \"r--\")\n",
        "  plt.text(35000, 5.0, r\"Prediction = {:.3f}\".format(new_pred), fontsize=12, color=\"r\")\n",
        "  plt.plot(new_gdp, new_pred, \"ro\")"
      ],
      "execution_count": 0,
      "outputs": []
    },
    {
      "cell_type": "code",
      "metadata": {
        "id": "jQhUhsmhH4o1",
        "colab_type": "code",
        "colab": {}
      },
      "source": [
        "# Downloading the data sets:\n",
        "download_data(urls=[url_life_data, url_gdp_data], datadir=datapath)\n"
      ],
      "execution_count": 0,
      "outputs": []
    },
    {
      "cell_type": "code",
      "metadata": {
        "id": "GzVp42--a1ng",
        "colab_type": "code",
        "outputId": "4a7178ce-6063-4207-bb96-6fb38c47edd6",
        "colab": {
          "base_uri": "https://localhost:8080/",
          "height": 1000
        }
      },
      "source": [
        "# Load the data\n",
        "data_better_life = pd.read_csv(os.path.join(datapath, \"oecd_bli_2015.csv\"), thousands=',')\n",
        "data_gdp_per_capita = pd.read_csv(os.path.join(datapath, \"gdp_per_capita.csv\"),thousands=',', \n",
        "                                  delimiter='\\t', encoding='latin1', na_values=\"n/a\")\n",
        "\n",
        "print(data_better_life)\n",
        "#print(data_gdp_per_capita)"
      ],
      "execution_count": 8,
      "outputs": [
        {
          "output_type": "stream",
          "text": [
            "     LOCATION          Country INDICATOR  ...  Value Flag Codes            Flags\n",
            "0         AUS        Australia   HO_BASE  ...   1.10          E  Estimated value\n",
            "1         AUT          Austria   HO_BASE  ...   1.00        NaN              NaN\n",
            "2         BEL          Belgium   HO_BASE  ...   2.00        NaN              NaN\n",
            "3         CAN           Canada   HO_BASE  ...   0.20        NaN              NaN\n",
            "4         CZE   Czech Republic   HO_BASE  ...   0.90        NaN              NaN\n",
            "5         DNK          Denmark   HO_BASE  ...   0.90        NaN              NaN\n",
            "6         FIN          Finland   HO_BASE  ...   0.60        NaN              NaN\n",
            "7         FRA           France   HO_BASE  ...   0.50        NaN              NaN\n",
            "8         DEU          Germany   HO_BASE  ...   0.10        NaN              NaN\n",
            "9         GRC           Greece   HO_BASE  ...   0.70        NaN              NaN\n",
            "10        HUN          Hungary   HO_BASE  ...   4.80        NaN              NaN\n",
            "11        ISL          Iceland   HO_BASE  ...   0.40        NaN              NaN\n",
            "12        IRL          Ireland   HO_BASE  ...   0.20        NaN              NaN\n",
            "13        ITA            Italy   HO_BASE  ...   1.10        NaN              NaN\n",
            "14        JPN            Japan   HO_BASE  ...   6.40        NaN              NaN\n",
            "15        KOR            Korea   HO_BASE  ...   4.20        NaN              NaN\n",
            "16        LUX       Luxembourg   HO_BASE  ...   0.10        NaN              NaN\n",
            "17        MEX           Mexico   HO_BASE  ...   4.20        NaN              NaN\n",
            "18        NLD      Netherlands   HO_BASE  ...   0.00        NaN              NaN\n",
            "19        NZL      New Zealand   HO_BASE  ...   0.20          E  Estimated value\n",
            "20        NOR           Norway   HO_BASE  ...   0.30        NaN              NaN\n",
            "21        POL           Poland   HO_BASE  ...   3.20        NaN              NaN\n",
            "22        PRT         Portugal   HO_BASE  ...   0.90        NaN              NaN\n",
            "23        SVK  Slovak Republic   HO_BASE  ...   0.60        NaN              NaN\n",
            "24        ESP            Spain   HO_BASE  ...   0.10        NaN              NaN\n",
            "25        SWE           Sweden   HO_BASE  ...   0.00        NaN              NaN\n",
            "26        CHE      Switzerland   HO_BASE  ...   0.00        NaN              NaN\n",
            "27        TUR           Turkey   HO_BASE  ...  12.70        NaN              NaN\n",
            "28        GBR   United Kingdom   HO_BASE  ...   0.20        NaN              NaN\n",
            "29        USA    United States   HO_BASE  ...   0.10        NaN              NaN\n",
            "...       ...              ...       ...  ...    ...        ...              ...\n",
            "3262      FRA           France   WL_TNOW  ...  14.90        NaN              NaN\n",
            "3263      DEU          Germany   WL_TNOW  ...  15.31        NaN              NaN\n",
            "3264      GRC           Greece   WL_TNOW  ...  14.69          E  Estimated value\n",
            "3265      HUN          Hungary   WL_TNOW  ...  14.82          E  Estimated value\n",
            "3266      ISL          Iceland   WL_TNOW  ...  14.37          E  Estimated value\n",
            "3267      IRL          Ireland   WL_TNOW  ...  14.97          E  Estimated value\n",
            "3268      ITA            Italy   WL_TNOW  ...  14.32        NaN              NaN\n",
            "3269      JPN            Japan   WL_TNOW  ...  14.88        NaN              NaN\n",
            "3270      KOR            Korea   WL_TNOW  ...  14.07        NaN              NaN\n",
            "3271      LUX       Luxembourg   WL_TNOW  ...  14.90          E  Estimated value\n",
            "3272      MEX           Mexico   WL_TNOW  ...  13.63          E  Estimated value\n",
            "3273      NLD      Netherlands   WL_TNOW  ...  15.23          E  Estimated value\n",
            "3274      NZL      New Zealand   WL_TNOW  ...  14.93        NaN              NaN\n",
            "3275      NOR           Norway   WL_TNOW  ...  15.67        NaN              NaN\n",
            "3276      POL           Poland   WL_TNOW  ...  13.83        NaN              NaN\n",
            "3277      PRT         Portugal   WL_TNOW  ...  14.72          E  Estimated value\n",
            "3278      SVK  Slovak Republic   WL_TNOW  ...  14.76          E  Estimated value\n",
            "3279      ESP            Spain   WL_TNOW  ...  15.52        NaN              NaN\n",
            "3280      SWE           Sweden   WL_TNOW  ...  15.30        NaN              NaN\n",
            "3281      CHE      Switzerland   WL_TNOW  ...  14.76          E  Estimated value\n",
            "3282      TUR           Turkey   WL_TNOW  ...  13.13          E  Estimated value\n",
            "3283      GBR   United Kingdom   WL_TNOW  ...  14.60        NaN              NaN\n",
            "3284      USA    United States   WL_TNOW  ...  14.12        NaN              NaN\n",
            "3285      BRA           Brazil   WL_TNOW  ...  14.75          E  Estimated value\n",
            "3286      CHL            Chile   WL_TNOW  ...  14.16          E  Estimated value\n",
            "3287      EST          Estonia   WL_TNOW  ...  14.43        NaN              NaN\n",
            "3288      ISR           Israel   WL_TNOW  ...  14.24          E  Estimated value\n",
            "3289      RUS           Russia   WL_TNOW  ...  14.75          E  Estimated value\n",
            "3290      SVN         Slovenia   WL_TNOW  ...  14.12        NaN              NaN\n",
            "3291     OECD     OECD - Total   WL_TNOW  ...  14.74        NaN              NaN\n",
            "\n",
            "[3292 rows x 17 columns]\n"
          ],
          "name": "stdout"
        }
      ]
    },
    {
      "cell_type": "code",
      "metadata": {
        "id": "Ul-buX5Sw7p2",
        "colab_type": "code",
        "colab": {}
      },
      "source": [
        "# Prepare the data\n",
        "country_stats = prepare_country_stats(data_better_life, data_gdp_per_capita)\n",
        "\n",
        "# np.c_ Translates slice objects to concatenation along the second axis.\n",
        "training = np.c_[country_stats[\"GDP per capita\"]]\n",
        "label = np.c_[country_stats[\"Life satisfaction\"]]"
      ],
      "execution_count": 0,
      "outputs": []
    },
    {
      "cell_type": "code",
      "metadata": {
        "id": "Y3u04fE8MytE",
        "colab_type": "code",
        "colab": {
          "base_uri": "https://localhost:8080/",
          "height": 34
        },
        "outputId": "80a8fd41-f61f-470c-cd8e-73535878d520"
      },
      "source": [
        "# Select a linear model\n",
        "model = sklearn.linear_model.LinearRegression()\n",
        "\n",
        "# Train the model\n",
        "model.fit(training, label)\n",
        "\n",
        "intercept, coeff = model.intercept_[0], model.coef_[0][0]\n",
        "intercept, coeff\n"
      ],
      "execution_count": 10,
      "outputs": [
        {
          "output_type": "execute_result",
          "data": {
            "text/plain": [
              "(4.853052800266436, 4.911544589158484e-05)"
            ]
          },
          "metadata": {
            "tags": []
          },
          "execution_count": 10
        }
      ]
    },
    {
      "cell_type": "code",
      "metadata": {
        "id": "FQVAuuVcMUJE",
        "colab_type": "code",
        "colab": {
          "base_uri": "https://localhost:8080/",
          "height": 283
        },
        "outputId": "37c7baa8-301a-442f-c346-5539b6220782"
      },
      "source": [
        "# Visualize the data with appropriate Cost function.\n",
        "\n",
        "country_stats.plot(kind='scatter', x=\"GDP per capita\", y='Life satisfaction')\n",
        "\n",
        "plt.axis([0, 60000, 4.5, 8])\n",
        "X=np.linspace(0, 60000, 1000)\n",
        "plt.plot(X, intercept + coeff*X, \"r\")\n",
        "plt.text(35000, 5.7, r\"$\\theta_0 = {:.3f}$\".format(intercept), fontsize=12, color=\"g\")\n",
        "plt.text(35000, 5.4, r\"$\\theta_1 = {:.3e}$\".format(coeff), fontsize=12, color=\"g\")\n",
        "plt.show()"
      ],
      "execution_count": 11,
      "outputs": [
        {
          "output_type": "display_data",
          "data": {
            "image/png": "[encoded data removed]",
            "text/plain": [
              "<Figure size 432x288 with 1 Axes>"
            ]
          },
          "metadata": {
            "tags": []
          }
        }
      ]
    },
    {
      "cell_type": "code",
      "metadata": {
        "id": "Zi0dVHzxkq1l",
        "colab_type": "code",
        "colab": {
          "base_uri": "https://localhost:8080/",
          "height": 283
        },
        "outputId": "cf51bdd9-b1cc-4983-d54c-6a4f3859ad2b"
      },
      "source": [
        "# Visualize a prediction for a new country based on GDP\n",
        "\n",
        "country_stats.plot(kind='scatter', x=\"GDP per capita\", y='Life satisfaction')\n",
        "plot_prediction(model=model, country=\"Japan\")"
      ],
      "execution_count": 12,
      "outputs": [
        {
          "output_type": "display_data",
          "data": {
            "image/png": "[encoded data removed]",
            "text/plain": [
              "<Figure size 432x288 with 1 Axes>"
            ]
          },
          "metadata": {
            "tags": []
          }
        }
      ]
    }
  ]
}