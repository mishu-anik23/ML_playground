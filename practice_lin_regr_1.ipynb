{
  "nbformat": 4,
  "nbformat_minor": 0,
  "metadata": {
    "colab": {
      "name": "practice_lin_regr_1",
      "version": "0.3.2",
      "provenance": [],
      "include_colab_link": true
    },
    "kernelspec": {
      "name": "python3",
      "display_name": "Python 3"
    }
  },
  "cells": [
    {
      "cell_type": "markdown",
      "metadata": {
        "id": "view-in-github",
        "colab_type": "text"
      },
      "source": [
        "<a href=\"https://colab.research.google.com/github/mishu-anik23/ML_playground/blob/master/practice_lin_regr_1.ipynb\" target=\"_parent\"><img src=\"https://colab.research.google.com/assets/colab-badge.svg\" alt=\"Open In Colab\"/></a>"
      ]
    },
    {
      "cell_type": "code",
      "metadata": {
        "id": "brqSrPPjwnAW",
        "colab_type": "code",
        "colab": {}
      },
      "source": [
        "# importing the libraries\n",
        "\n",
        "import os\n",
        "\n",
        "import matplotlib.pyplot as plt\n",
        "import numpy as np\n",
        "import pandas as pd\n",
        "import sklearn.linear_model"
      ],
      "execution_count": 0,
      "outputs": []
    },
    {
      "cell_type": "code",
      "metadata": {
        "id": "sUFZp1Rst3A_",
        "colab_type": "code",
        "colab": {}
      },
      "source": [
        "# Define a function to process the two datasets a/c to learning objective.\n",
        "\n",
        "\n",
        "def prepare_country_stats(life_data, gdp_data):\n",
        "    \n",
        "    # filtering the data a/c to INEQUALITY criteria 'TOT'\n",
        "    life_data = life_data[life_data[\"INEQUALITY\"]==\"TOT\"]\n",
        "\n",
        "    ## rearranging the data a/c to different inducator value for each country\n",
        "    life_data = life_data.pivot(index=\"Country\", columns=\"Indicator\", values=\"Value\")\n",
        "\n",
        "    ## renaming one column name and arranging a/c to Country of the i/p gdp dataset \n",
        "    gdp_data.rename(columns={\"2015\": \"GDP per capita\"}, inplace=True)\n",
        "    gdp_data.set_index(\"Country\", inplace=True)\n",
        "    \n",
        "    ## merging the two datasets and sorting by GDP value\n",
        "    full_country_stats = pd.merge(left=life_data, right=gdp_data,\n",
        "                                  left_index=True, right_index=True)\n",
        "    full_country_stats.sort_values(by=\"GDP per capita\", inplace=True)\n",
        "\n",
        "    ## return the final datasets after removing some indexes.\n",
        "    remove_indices = [0, 1, 6, 8, 33, 34, 35]\n",
        "    keep_indices = list(set(range(36)) - set(remove_indices))\n",
        "\n",
        "    return full_country_stats[[\"GDP per capita\", 'Life satisfaction']].iloc[keep_indices]"
      ],
      "execution_count": 0,
      "outputs": []
    },
    {
      "cell_type": "code",
      "metadata": {
        "id": "7zrEwX501k0f",
        "colab_type": "code",
        "colab": {}
      },
      "source": [
        "# Ploting function of Life Satisfaction Based on GDP for given Country name.\n",
        "\n",
        "def plot_prediction(model, country):\n",
        "  new_gdp = data_gdp_per_capita.loc[country][\"GDP per capita\"]\n",
        "  new_pred = model.predict([[new_gdp]])[0][0]\n",
        "  \n",
        "  X=np.linspace(0, 60000, 1000)\n",
        "  plt.plot(X, t0 + t1*X, \"r\")\n",
        "  plt.axis([0, 60000, 4.5, 9.2])\n",
        "  plt.text(35000, 5.7, r\"$\\theta_0 = {:.3f}$\".format(intercept), fontsize=12, color=\"g\")\n",
        "  plt.text(35000, 5.4, r\"$\\theta_1 = {:.3e}$\".format(coeff), fontsize=12, color=\"g\")\n",
        "  plt.plot([new_gdp, new_gdp], [0, new_pred], \"r--\")\n",
        "  plt.text(35000, 5.0, r\"Prediction = {:.3f}\".format(new_pred), fontsize=12, color=\"r\")\n",
        "  plt.plot(new_gdp, new_pred, \"ro\")"
      ],
      "execution_count": 0,
      "outputs": []
    },
    {
      "cell_type": "code",
      "metadata": {
        "id": "GzVp42--a1ng",
        "colab_type": "code",
        "colab": {}
      },
      "source": [
        "# Load the data\n",
        "data_better_life = pd.read_csv(\"better_life_index.csv\", thousands=',')\n",
        "data_gdp_per_capita = pd.read_csv(\"gdp_per_capita.csv\",thousands=',', delimiter=';',\n",
        "                             encoding='latin1', na_values=\"n/a\")\n",
        "\n",
        "#print(data_better_life)\n",
        "#print(data_gdp_per_capita)"
      ],
      "execution_count": 0,
      "outputs": []
    },
    {
      "cell_type": "code",
      "metadata": {
        "id": "Ul-buX5Sw7p2",
        "colab_type": "code",
        "colab": {}
      },
      "source": [
        "# Prepare the data\n",
        "country_stats = prepare_country_stats(data_better_life, data_gdp_per_capita)\n",
        "\n",
        "# np.c_ Translates slice objects to concatenation along the second axis.\n",
        "training = np.c_[country_stats[\"GDP per capita\"]]\n",
        "label = np.c_[country_stats[\"Life satisfaction\"]]"
      ],
      "execution_count": 0,
      "outputs": []
    },
    {
      "cell_type": "code",
      "metadata": {
        "id": "Y3u04fE8MytE",
        "colab_type": "code",
        "colab": {
          "base_uri": "https://localhost:8080/",
          "height": 34
        },
        "outputId": "c4808a60-7c5c-4e53-acbd-48ac6f1b36e8"
      },
      "source": [
        "# Select a linear model\n",
        "model = sklearn.linear_model.LinearRegression()\n",
        "\n",
        "# Train the model\n",
        "model.fit(training, label)\n",
        "\n",
        "intercept, coeff = model.intercept_[0], model.coef_[0][0]\n",
        "intercept, coeff\n"
      ],
      "execution_count": 412,
      "outputs": [
        {
          "output_type": "execute_result",
          "data": {
            "text/plain": [
              "(5.382933241430951, 3.8823699577965094e-05)"
            ]
          },
          "metadata": {
            "tags": []
          },
          "execution_count": 412
        }
      ]
    },
    {
      "cell_type": "code",
      "metadata": {
        "id": "FQVAuuVcMUJE",
        "colab_type": "code",
        "colab": {
          "base_uri": "https://localhost:8080/",
          "height": 283
        },
        "outputId": "a14edaeb-4506-449b-f2f7-57ead212be15"
      },
      "source": [
        "# Visualize the data with appropriate Cost function.\n",
        "\n",
        "country_stats.plot(kind='scatter', x=\"GDP per capita\", y='Life satisfaction')\n",
        "\n",
        "plt.axis([0, 60000, 4.5, 8])\n",
        "X=np.linspace(0, 60000, 1000)\n",
        "plt.plot(X, t0 + t1*X, \"r\")\n",
        "plt.text(35000, 5.7, r\"$\\theta_0 = {:.3f}$\".format(intercept), fontsize=12, color=\"g\")\n",
        "plt.text(35000, 5.4, r\"$\\theta_1 = {:.3e}$\".format(coeff), fontsize=12, color=\"g\")\n",
        "plt.show()"
      ],
      "execution_count": 413,
      "outputs": [
        {
          "output_type": "display_data",
          "data": {
            "image/png": "[encoded data removed]",
            "text/plain": [
              "<Figure size 432x288 with 1 Axes>"
            ]
          },
          "metadata": {
            "tags": []
          }
        }
      ]
    },
    {
      "cell_type": "code",
      "metadata": {
        "id": "Zi0dVHzxkq1l",
        "colab_type": "code",
        "colab": {
          "base_uri": "https://localhost:8080/",
          "height": 283
        },
        "outputId": "3223cdbe-ef0b-4031-879a-14cd12cd0ca3"
      },
      "source": [
        "# Visualize a prediction for a new country based on GDP\n",
        "\n",
        "country_stats.plot(kind='scatter', x=\"GDP per capita\", y='Life satisfaction')\n",
        "plot_prediction(model=model, country=\"Japan\")"
      ],
      "execution_count": 414,
      "outputs": [
        {
          "output_type": "display_data",
          "data": {
            "image/png": "[encoded data removed]",
            "text/plain": [
              "<Figure size 432x288 with 1 Axes>"
            ]
          },
          "metadata": {
            "tags": []
          }
        }
      ]
    }
  ]
}